{
  "nbformat": 4,
  "nbformat_minor": 0,
  "metadata": {
    "colab": {
      "provenance": []
    },
    "kernelspec": {
      "name": "python3",
      "display_name": "Python 3"
    },
    "language_info": {
      "name": "python"
    }
  },
  "cells": [
    {
      "cell_type": "code",
      "execution_count": null,
      "metadata": {
        "id": "JUgpwLGBoobH"
      },
      "outputs": [],
      "source": []
    },
    {
      "cell_type": "markdown",
      "source": [
        "Q1. Explain what inheritance is in object-oriented programming and why it is used.\n",
        "\n",
        "ANS- In object-oriented programming (OOP), inheritance is a fundamental concept that allows a class to inherit the properties and behaviors of another class. It enables the creation of a hierarchical relationship between classes, where a child class (also known as a derived class or subclass) can inherit and extend the features of a parent class (also known as a base class or superclass).The main purpose of inheritance is to promote code reusability.Inheritance supports the concept of polymorphism."
      ],
      "metadata": {
        "id": "6SjTqSgNo7l1"
      }
    },
    {
      "cell_type": "markdown",
      "source": [
        "Q2.Discuss the concept of single inheritance and multiple inheritance, highlighting their differences and advantages.\n",
        "\n",
        "Ans - Single inheritance- Single inheritance in Python refers to the ability of a class to inherit properties and behaviors from a single base class.\n",
        "class DerivedClass(BaseClass):\n",
        "\n",
        "\n",
        "In Python, like in other object-oriented programming languages, single inheritance and multiple inheritance are two forms of class inheritance. Let's explore their differences and advantages specifically in the context of Python.\n",
        "\n",
        "Single Inheritance:\n",
        "Single inheritance in Python refers to the ability of a class to inherit properties and behaviors from a single base class. The syntax for single inheritance is straightforward:\n",
        "python\n",
        "Copy code\n",
        "class DerivedClass(BaseClass):\n",
        "\n",
        "Advantages of single inheritance in Python include:\n",
        "\n",
        "Simplicity: Single inheritance provides a clear and simple hierarchy of classes. It is easy to understand and maintain the code when there is only one parent class.\n",
        "\n",
        "Code Reusability: Single inheritance promotes code reusability by allowing a class to inherit and extend the functionality of a single parent class. This encourages the reuse of existing code and reduces redundancy.\n",
        "\n",
        "Method Overriding: With single inheritance, derived classes can override methods from the base class to customize their behavior\n"
      ],
      "metadata": {
        "id": "Q4HbYsmFzBKP"
      }
    },
    {
      "cell_type": "markdown",
      "source": [
        "Multiple Inheritance:\n",
        "Multiple inheritance in Python allows a class to inherit properties and behaviors from multiple base classes. The syntax for multiple inheritance involves listing multiple parent classes separated by commas:\n",
        "\n",
        "class DerivedClass(BaseClass1, BaseClass2, ...):\n",
        "\n",
        "Code Reusability: Multiple inheritance offers increased code reusability by allowing a class to inherit features from multiple parent classes. This promotes modularity and reduces code duplication.\n",
        "\n",
        "Flexibility: Multiple inheritance provides greater flexibility in class design. It enables a class to combine features from different sources, allowing for more diverse and specialized functionality."
      ],
      "metadata": {
        "id": "uH7ztqAJZgel"
      }
    },
    {
      "cell_type": "code",
      "source": [
        "class Animal:\n",
        "  name = \"\"\n",
        "  def eat(self):\n",
        "    print(\"I can eat\")\n",
        "# inherit from Animal\n",
        "class Dog(Animal):\n",
        "    # new method in subclass\n",
        "  def display(self):\n",
        "        # access name attribute of superclass using self\n",
        "    print(\"My name is \", self.name)"
      ],
      "metadata": {
        "id": "3vNs-bdTzALj"
      },
      "execution_count": 2,
      "outputs": []
    },
    {
      "cell_type": "code",
      "source": [
        "labrador = Dog()\n"
      ],
      "metadata": {
        "id": "13GUfwveaPjT"
      },
      "execution_count": 3,
      "outputs": []
    },
    {
      "cell_type": "code",
      "source": [
        "labrador.name = \"Rohu\"\n",
        "labrador.eat()\n",
        "\n",
        "# call subclass method\n",
        "labrador.display()"
      ],
      "metadata": {
        "colab": {
          "base_uri": "https://localhost:8080/"
        },
        "id": "KLZ9nP7Qaql6",
        "outputId": "f81b92da-f244-4ce5-bc49-152bbb3bff6e"
      },
      "execution_count": 4,
      "outputs": [
        {
          "output_type": "stream",
          "name": "stdout",
          "text": [
            "I can eat\n",
            "My name is  Rohu\n"
          ]
        }
      ]
    },
    {
      "cell_type": "code",
      "source": [],
      "metadata": {
        "id": "qAofw-wTay7N"
      },
      "execution_count": null,
      "outputs": []
    },
    {
      "cell_type": "code",
      "source": [],
      "metadata": {
        "id": "A94zV30t96nL"
      },
      "execution_count": null,
      "outputs": []
    },
    {
      "cell_type": "markdown",
      "source": [
        "Q3. Explain the terms \"base class\" and \"derived class\" in the context of inheritance.\n",
        "\n",
        "Ans - base class, also known as a superclass or parent class, is a class from which other classes inherit properties and behaviors. It serves as a blueprint or template for creating derived classes. The base class encapsulates common attributes and methods that can be shared among multiple derived classes.\n",
        "\n",
        "derived class, also known as a subclass or child class, is a class that inherits properties and behaviors from a base class. It extends or specializes the base class by adding its unique attributes and methods or overriding the inherited ones. A derived class can also introduce new methods or behaviors specific to itself"
      ],
      "metadata": {
        "id": "0A67BOsf97FN"
      }
    },
    {
      "cell_type": "markdown",
      "source": [
        "Q4. What is the significance of the \"protected\" access modifier in inheritance? How does it differ from \"private\" and \"public\" modifiers?\n",
        "\n",
        "Ans - Ans - the \"protected\" access modifier is denoted by a single underscore (_) before the name of a class member (attribute or method). It indicates that the member is intended to be accessed within the class and its derived classes.The significance of the \"protected\" access modifier in inheritance is that it allows derived classes to access and modify the protected members inherited from the base class.\n",
        "\n",
        "Public: Members without any underscore prefix are considered public and can be accessed from anywhere, including outside the class hierarchy.\n",
        "\n",
        "Protected: Members with a single underscore prefix (e.g., _protected) are intended for internal use within the class and its derived classes. Although they can be accessed from outside the class."
      ],
      "metadata": {
        "id": "0GH5fR0-_93r"
      }
    },
    {
      "cell_type": "code",
      "source": [
        "class Anime:\n",
        "  _rating = \"Best\"\n",
        "  def __init__(self, anime, release_year):\n",
        "    self._anime = anime\n",
        "    self._release_year = release_year\n",
        "\n",
        "  def _show(self):\n",
        "    print(\"Release:\", self._release_year)\n",
        "\n"
      ],
      "metadata": {
        "id": "a-lCP0b9-w2X"
      },
      "execution_count": 7,
      "outputs": []
    },
    {
      "cell_type": "code",
      "source": [
        "obj = Anime(\"Naruto\", 2002)\n",
        "print(\"Anime:\", obj._anime)\n",
        "obj._show()"
      ],
      "metadata": {
        "colab": {
          "base_uri": "https://localhost:8080/"
        },
        "id": "ZxWOqyUVAiPa",
        "outputId": "c30a3ff9-6bb0-41d7-8d58-1d47ac04fb34"
      },
      "execution_count": 8,
      "outputs": [
        {
          "output_type": "stream",
          "name": "stdout",
          "text": [
            "Anime: Naruto\n",
            "Release: 2002\n"
          ]
        }
      ]
    },
    {
      "cell_type": "markdown",
      "source": [
        "Q5.  What is the purpose of the \"super\" keyword in inheritance? Provide an example\n",
        "\n",
        "Ans -The \"super\" keyword in inheritance is used to refer to the superclass or base class from within a derived class. It allows you to access and invoke the methods and attributes defined in the base class.\n"
      ],
      "metadata": {
        "id": "8ubm0bFZBVK3"
      }
    },
    {
      "cell_type": "code",
      "source": [
        "class vehicle:\n",
        "  def __init__(self,name):\n",
        "   self.name =name\n",
        "\n",
        "  def start(self):\n",
        "    print(f\"{self.name} started.\")\n",
        "\n",
        "  def stop(self):\n",
        "    print(f\"{self.name} stopped.\")\n",
        "\n",
        "class car(vehicle):\n",
        "  def __init__(self,name,fueltype):\n",
        "    super().__init__(name);\n",
        "    self.fueltype=fueltype\n",
        "\n",
        "  def start(self):\n",
        "    super().start()\n",
        "    print(f\"Engine running. Fuel type: {self.fueltype}\")"
      ],
      "metadata": {
        "id": "f6fgjbkrB2lP"
      },
      "execution_count": 15,
      "outputs": []
    },
    {
      "cell_type": "code",
      "source": [
        "car1= car(\"maruti\",\"engine\")"
      ],
      "metadata": {
        "id": "2isqLvf6C1tZ"
      },
      "execution_count": 16,
      "outputs": []
    },
    {
      "cell_type": "code",
      "source": [
        "car1.start()"
      ],
      "metadata": {
        "colab": {
          "base_uri": "https://localhost:8080/"
        },
        "id": "bHViMvoZC_wb",
        "outputId": "6376dc53-3ff0-4f17-e898-70bc33e4827f"
      },
      "execution_count": 17,
      "outputs": [
        {
          "output_type": "stream",
          "name": "stdout",
          "text": [
            "maruti started.\n",
            "Engine running. Fuel type: engine\n"
          ]
        }
      ]
    },
    {
      "cell_type": "markdown",
      "source": [
        "Q6. Create a base class called \"Vehicle\" with attributes like \"make\", \"model\", and \"year\".Then, create a derived class called \"Car\" that inherits from \"Vehicle\" and adds an attribute called \"fuel_type\". Implement appropriate methods in both classes."
      ],
      "metadata": {
        "id": "mCGMwEB-Ditq"
      }
    },
    {
      "cell_type": "code",
      "source": [
        "class Vehicle:\n",
        "  def __init__(self,make, model ,year):\n",
        "    self.make= make\n",
        "    self.model=model\n",
        "    self.year=year\n",
        "\n",
        "  def start(self):\n",
        "    print(f\"The {self.make} {self.model} ({self.year}) is starting.\")\n",
        "\n",
        "  def stop(self):\n",
        "    print(f\"The {self.make} {self.model} ({self.year}) has stopped.\")\n",
        "\n",
        "\n",
        "class Car(Vehicle):\n",
        "  def __init__(self,make,model,year,fuel_type):\n",
        "    super().__init__(make, model, year)\n",
        "    self.fuel_type=fuel_type\n",
        "\n",
        "  def start(self):\n",
        "    super().start()\n",
        "    print(f\"The {self.make} {self.model} ({self.year}) with {self.fuel_type} fuel is running.\")\n",
        "\n",
        "  def stop(self):\n",
        "    super().stop()\n",
        "    print(f\"The {self.make} {self.model} ({self.year}) with {self.fuel_type} fuel has come to a stop.\")\n",
        "\n",
        "\n"
      ],
      "metadata": {
        "id": "o7-zDxBsD3mP"
      },
      "execution_count": 18,
      "outputs": []
    },
    {
      "cell_type": "code",
      "source": [
        "car1 = Car(\"XUV500\", \"AZ\", 2023, \"engine\")"
      ],
      "metadata": {
        "id": "_2Dsf0mQFDi_"
      },
      "execution_count": 19,
      "outputs": []
    },
    {
      "cell_type": "code",
      "source": [
        "car1.start()"
      ],
      "metadata": {
        "colab": {
          "base_uri": "https://localhost:8080/"
        },
        "id": "7I6ye0AhFP4u",
        "outputId": "5b682cdf-a664-44b6-9007-dade4fed474d"
      },
      "execution_count": 20,
      "outputs": [
        {
          "output_type": "stream",
          "name": "stdout",
          "text": [
            "The XUV500 AZ (2023) is starting.\n",
            "The XUV500 AZ (2023) with engine fuel is running.\n"
          ]
        }
      ]
    },
    {
      "cell_type": "code",
      "source": [
        "car1.stop()"
      ],
      "metadata": {
        "colab": {
          "base_uri": "https://localhost:8080/"
        },
        "id": "kvAtOYmvFTbs",
        "outputId": "62afe007-bab8-4fa1-818e-3882de36c3c5"
      },
      "execution_count": 21,
      "outputs": [
        {
          "output_type": "stream",
          "name": "stdout",
          "text": [
            "The XUV500 AZ (2023) has stopped.\n",
            "The XUV500 AZ (2023) with engine fuel has come to a stop.\n"
          ]
        }
      ]
    },
    {
      "cell_type": "markdown",
      "source": [
        "Q7. Create a base class called \"Employee\" with attributes like \"name\" and \"salary.\"Derive two classes, \"Manager\" and \"Developer,\" from \"Employee.\" Add an additional attribute called \"department\" for the \"Manager\" class and \"programming_language\" for the \"Developer\" class."
      ],
      "metadata": {
        "id": "lyBYEX5LFWkH"
      }
    },
    {
      "cell_type": "code",
      "source": [
        "class Employee:\n",
        "  def __init__(self,name,salary):\n",
        "    self.name = name\n",
        "    self.salary= salary\n",
        "\n",
        "  def display_details(self):\n",
        "    print(f\"Name: {self.name}\")\n",
        "    print(f\"Salary: ${self.salary}\")\n",
        "\n",
        "class Manager(Employee):\n",
        "  def __init__(self,name, salary,department):\n",
        "    super().__init__(name, salary)\n",
        "    self.department=department;\n",
        "\n",
        "  def display_details(self):\n",
        "    super().display_details()\n",
        "    print(f\"Department: {self.department}\")\n",
        "\n",
        "class Developer(Employee):\n",
        "  def __init__(self,name, salary,programming_langaugge):\n",
        "    super().__init__(name, salary)\n",
        "    self.programming_langaugge=programming_langaugge;\n",
        "\n",
        "  def display_details(self):\n",
        "    super().display_details()\n",
        "    print(f\"programming_langaugge: {self.programming_langaugge}\")\n"
      ],
      "metadata": {
        "id": "5lhTjGLgFihR"
      },
      "execution_count": 35,
      "outputs": []
    },
    {
      "cell_type": "code",
      "source": [
        "manager = Manager(\"kashish\", 90000, \"Development\")\n",
        "developer = Developer(\"honey\", 90000, \"Python\")"
      ],
      "metadata": {
        "id": "Pwkd2xrzFjLY"
      },
      "execution_count": 36,
      "outputs": []
    },
    {
      "cell_type": "code",
      "source": [
        "manager.display_details()"
      ],
      "metadata": {
        "colab": {
          "base_uri": "https://localhost:8080/"
        },
        "id": "bFV7HAFpIkgB",
        "outputId": "a150aa62-72c4-4533-95fa-84d73f2fd6fe"
      },
      "execution_count": 37,
      "outputs": [
        {
          "output_type": "stream",
          "name": "stdout",
          "text": [
            "Name: kashish\n",
            "Salary: $90000\n",
            "Department: Development\n"
          ]
        }
      ]
    },
    {
      "cell_type": "markdown",
      "source": [
        "Q8. Design a base class called \"Shape\" with attributes like \"colour\" and \"border_width.\"\n",
        "Create derived classes, \"Rectangle\" and \"Circle,\" that inherit from \"Shape\" and add\n",
        "specific attributes like \"length\" and \"width\" for the \"Rectangle\" class and \"radius\" for\n",
        "the \"Circle\" class.\n"
      ],
      "metadata": {
        "id": "UDoF5ih2BVTq"
      }
    },
    {
      "cell_type": "code",
      "source": [
        "class Shape:\n",
        "  def __init__(self, colour, border_width):\n",
        "    self.colour = colour\n",
        "    self.border_width = border_width\n",
        "\n",
        "  def display_details(self):\n",
        "    print(f\"Colour: {self.colour}\")\n",
        "    print(f\"Border Width: {self.border_width}\")\n",
        "\n",
        "\n",
        "class Rectangle(Shape):\n",
        "  def __init__(self, colour, border_width, length, width):\n",
        "    super().__init__(colour, border_width)\n",
        "    self.length = length\n",
        "    self.width = width\n",
        "\n",
        "  def display_details(self):\n",
        "    super().display_details()\n",
        "    print(f\"Length: {self.length}\")\n",
        "    print(f\"Width: {self.width}\")\n",
        "\n",
        "\n",
        "class Circle(Shape):\n",
        "  def __init__(self, colour, border_width, radius):\n",
        "    super().__init__(colour, border_width)\n",
        "    self.radius = radius\n",
        "\n",
        "  def display_details(self):\n",
        "    super().display_details()\n",
        "    print(f\"Radius: {self.radius}\")\n",
        "\n"
      ],
      "metadata": {
        "id": "g_FaRyiLA8Ss"
      },
      "execution_count": 56,
      "outputs": []
    },
    {
      "cell_type": "code",
      "source": [
        "rectangle = Rectangle(\"Red\", 2, 10, 5)\n",
        "circle = Circle(\"Blue\", 1, 8)"
      ],
      "metadata": {
        "id": "JCGtCTw2OZ-T"
      },
      "execution_count": 59,
      "outputs": []
    },
    {
      "cell_type": "code",
      "source": [
        "rectangle.display_details()\n"
      ],
      "metadata": {
        "colab": {
          "base_uri": "https://localhost:8080/"
        },
        "id": "GyA_GX1AO4ho",
        "outputId": "17353460-bdb4-4342-bb55-7e5b59c84711"
      },
      "execution_count": 60,
      "outputs": [
        {
          "output_type": "stream",
          "name": "stdout",
          "text": [
            "Colour: Red\n",
            "Border Width: 2\n",
            "Length: 10\n",
            "Width: 5\n"
          ]
        }
      ]
    },
    {
      "cell_type": "code",
      "source": [],
      "metadata": {
        "id": "tYfpoLOVO8X0"
      },
      "execution_count": null,
      "outputs": []
    },
    {
      "cell_type": "markdown",
      "source": [
        "Q9. Create a base class called \"Device\" with attributes like \"brand\" and \"model.\" Derive\n",
        "two classes, \"Phone\" and \"Tablet,\" from \"Device.\" Add specific attributes like\n",
        "\"screen_size\" for the \"Phone\" class and \"battery_capacity\" for the \"Tablet\" class."
      ],
      "metadata": {
        "id": "d0hd1E_vRSpD"
      }
    },
    {
      "cell_type": "code",
      "source": [
        "class Device:\n",
        "  def __init__(self,brand,model):\n",
        "    self.brand=brand\n",
        "    self.model=model\n",
        "\n",
        "  def display_details(self):\n",
        "    print(f\"brand is {self.brand}\")\n",
        "    print(f\"model is is {self.model}\")\n",
        "\n",
        "class Phone(Device):\n",
        "  def __init__(self, brand, model, screen_size):\n",
        "    super().__init__(brand, model)\n",
        "    self.screen_size = screen_size\n",
        "\n",
        "  def display_details(self):\n",
        "    super().display_details()\n",
        "    print(f\"Screen Size: {self.screen_size}\")\n",
        "\n",
        "class Tablet(Device):\n",
        "  def __init__(self, brand, model, battery_capacity):\n",
        "    super().__init__(brand, model)\n",
        "    self.battery_capacity = battery_capacity\n",
        "\n",
        "  def display_details(self):\n",
        "    super().display_details()\n",
        "    print(f\"Battery Capacity: {self.battery_capacity}\")\n",
        "\n",
        "\n"
      ],
      "metadata": {
        "id": "Pfty242dRX03"
      },
      "execution_count": 63,
      "outputs": []
    },
    {
      "cell_type": "code",
      "source": [
        "phone = Phone(\"Apple\", \"iPhone 12\", \"6.1 inches\")"
      ],
      "metadata": {
        "id": "3Rus9-hXYBr7"
      },
      "execution_count": 64,
      "outputs": []
    },
    {
      "cell_type": "code",
      "source": [
        "phone.display_details()"
      ],
      "metadata": {
        "colab": {
          "base_uri": "https://localhost:8080/"
        },
        "id": "7l_VX64_YExx",
        "outputId": "79c63ac9-b6bb-44df-f3ea-4052bb646ad8"
      },
      "execution_count": 65,
      "outputs": [
        {
          "output_type": "stream",
          "name": "stdout",
          "text": [
            "brand is Apple\n",
            "model is is iPhone 12\n",
            "Screen Size: 6.1 inches\n"
          ]
        }
      ]
    },
    {
      "cell_type": "markdown",
      "source": [
        "Q10.  Create a base class called \"BankAccount\" with attributes like \"account_number\" and\n",
        "\"balance.\" Derive two classes, \"SavingsAccount\" and \"CheckingAccount,\" from\n",
        "\"BankAccount.\" Add specific methods like \"calculate_interest\" for the\n",
        "\"SavingsAccount\" class and \"deduct_fees\" for the \"CheckingAccount\" class."
      ],
      "metadata": {
        "id": "hKVXysmDYoFa"
      }
    },
    {
      "cell_type": "code",
      "source": [
        "class BankAccount:\n",
        "  def __init__(self,account_number,balance):\n",
        "    self.account_number=account_number\n",
        "    self.balance=balance\n",
        "\n",
        "  def display_details(self):\n",
        "    print(f\"account_number is {self.account_number}\")\n",
        "    print(f\"balance is is {self.balance}\")\n",
        "\n",
        "class SavingsAccount(BankAccount):\n",
        "  def __init__(self, account_number, balance):\n",
        "    super().__init__(account_number, balance)\n",
        "\n",
        "  def calculate_interest(self,interest_rate):\n",
        "    interest = self.balance * interest_rate\n",
        "    self.balance += interest\n",
        "    print(f\"Interest calculated: {interest}\")\n",
        "    print(f\"Updated Balance: {self.balance}\")\n",
        "\n",
        "class CheckingAccount(BankAccount):\n",
        "  def __init__(self, account_number, balance):\n",
        "    super().__init__(account_number, balance)\n",
        "\n",
        "  def deduct_fees(self, fee_amount):\n",
        "    if self.balance >= fee_amount:\n",
        "      self.balance=self.balance-fee_amount\n",
        "      print(f\"Fees deducted: {fee_amount}\")\n",
        "      print(f\"Updated Balance: {self.balance}\")\n",
        "\n",
        "    else:\n",
        "      print(\"insufficiant balance\")\n",
        "\n",
        "\n"
      ],
      "metadata": {
        "id": "sm9Fy405YV3D"
      },
      "execution_count": 66,
      "outputs": []
    },
    {
      "cell_type": "code",
      "source": [
        "savings_account = SavingsAccount(\"123456789\", 1000000)"
      ],
      "metadata": {
        "id": "MAxmCmjlblqA"
      },
      "execution_count": 69,
      "outputs": []
    },
    {
      "cell_type": "code",
      "source": [
        "savings_account.display_details()"
      ],
      "metadata": {
        "colab": {
          "base_uri": "https://localhost:8080/"
        },
        "id": "k0ENOAXybpvX",
        "outputId": "a7eb019b-2945-44e9-b817-8c4416971295"
      },
      "execution_count": 70,
      "outputs": [
        {
          "output_type": "stream",
          "name": "stdout",
          "text": [
            "account_number is 123456789\n",
            "balance is is 1000000\n"
          ]
        }
      ]
    },
    {
      "cell_type": "code",
      "source": [
        "checking_account = CheckingAccount(\"987654321\", 5000)"
      ],
      "metadata": {
        "id": "tJVfyUtRbsqx"
      },
      "execution_count": 71,
      "outputs": []
    },
    {
      "cell_type": "code",
      "source": [
        "checking_account.display_details()"
      ],
      "metadata": {
        "colab": {
          "base_uri": "https://localhost:8080/"
        },
        "id": "BzNHBFpob1o1",
        "outputId": "e95a9770-7982-49a7-f7e5-aaa6ce17d5a4"
      },
      "execution_count": 72,
      "outputs": [
        {
          "output_type": "stream",
          "name": "stdout",
          "text": [
            "account_number is 987654321\n",
            "balance is is 5000\n"
          ]
        }
      ]
    },
    {
      "cell_type": "code",
      "source": [
        "savings_account.calculate_interest(0.5)\n"
      ],
      "metadata": {
        "colab": {
          "base_uri": "https://localhost:8080/"
        },
        "id": "FvxgZskzb485",
        "outputId": "f4811771-3092-4269-bdf1-277e8ffc6b13"
      },
      "execution_count": 75,
      "outputs": [
        {
          "output_type": "stream",
          "name": "stdout",
          "text": [
            "Interest calculated: 353500000.0\n",
            "Updated Balance: 1060500000.0\n"
          ]
        }
      ]
    },
    {
      "cell_type": "code",
      "source": [
        "checking_account.deduct_fees(650)"
      ],
      "metadata": {
        "colab": {
          "base_uri": "https://localhost:8080/"
        },
        "id": "kmW9cI8IcDXt",
        "outputId": "8666acd3-16c2-40fe-c9ec-6de819c0018b"
      },
      "execution_count": 76,
      "outputs": [
        {
          "output_type": "stream",
          "name": "stdout",
          "text": [
            "Fees deducted: 650\n",
            "Updated Balance: 4350\n"
          ]
        }
      ]
    },
    {
      "cell_type": "code",
      "source": [],
      "metadata": {
        "id": "3ySXniSDcP7h"
      },
      "execution_count": null,
      "outputs": []
    }
  ]
}